{
 "cells": [
  {
   "cell_type": "markdown",
   "metadata": {},
   "source": [
    "## Import Modules/ Libs for Data Clean-up"
   ]
  },
  {
   "cell_type": "code",
   "execution_count": 1,
   "metadata": {},
   "outputs": [],
   "source": [
    "import pandas as pd\n",
    "import csv\n",
    "import datetime as dt\n",
    "from datetime import datetime\n",
    "import numpy as np"
   ]
  },
  {
   "cell_type": "markdown",
   "metadata": {},
   "source": [
    "## Import SQL-Alchemy for SQL-Lite Data Load"
   ]
  },
  {
   "cell_type": "code",
   "execution_count": 2,
   "metadata": {},
   "outputs": [],
   "source": [
    "from sqlalchemy import create_engine\n",
    "from sqlalchemy.ext.declarative import declarative_base\n",
    "from sqlalchemy import Column, Integer, String, Float\n",
    "from sqlalchemy.orm import Session\n",
    "from sqlalchemy import func\n",
    "import pathlib"
   ]
  },
  {
   "cell_type": "markdown",
   "metadata": {},
   "source": [
    "## Data Clean-up Process"
   ]
  },
  {
   "cell_type": "markdown",
   "metadata": {},
   "source": [
    "### DATABASE RAW_DF"
   ]
  },
  {
   "cell_type": "code",
   "execution_count": null,
   "metadata": {},
   "outputs": [],
   "source": [
    "# define path to csv file\n",
    "path=\"Resources_hle\\IMDb_movies.csv\"\n",
    "\n",
    "# convert csv to pandas df\n",
    "raw_df = pd.read_csv(path, encoding=\"UTF-8\", dtype={'usa_gross_income': \"string\", \"worlwide_gross_income\" : \"string\", \"budget\": \"string\"})"
   ]
  },
  {
   "cell_type": "markdown",
   "metadata": {},
   "source": [
    "1. choose all cols to keep (netflix id, imdb id, title, ddmmyy, dd, mo,yr,duration, avg_vote, votes, reviews_from_users\treviews_from_critics, budget,usa_gross_icome, ww income, coutry, type, genre, actor, description)\n",
    "[[\"\"]]\n",
    "2. break the date published col into ye, mo, dd\n",
    "3. combine reviews\n",
    "4. rename columns\n",
    "5. load into SQL-pgadmin4\n",
    "6. report\n",
    "       a. where data found, how\n",
    "       b. transforming process\n",
    "       c. load SQL, pic of SQL"
   ]
  },
  {
   "cell_type": "code",
   "execution_count": null,
   "metadata": {
    "scrolled": true
   },
   "outputs": [],
   "source": [
    "# review what imported\n",
    "raw_df"
   ]
  },
  {
   "cell_type": "code",
   "execution_count": null,
   "metadata": {},
   "outputs": [],
   "source": [
    "# describe the data    \n",
    "raw_df.describe()"
   ]
  },
  {
   "cell_type": "code",
   "execution_count": null,
   "metadata": {},
   "outputs": [],
   "source": [
    "# extract day, month, year from the date_published columns\n",
    "raw_df[\"date_published\"] = pd.to_datetime(raw_df['date_published'])\n",
    "raw_df['day'], raw_df['month'], raw_df['year']  = raw_df['date_published'].dt.day, raw_df['date_published'].dt.month, raw_df['date_published'].dt.year"
   ]
  },
  {
   "cell_type": "code",
   "execution_count": null,
   "metadata": {},
   "outputs": [],
   "source": [
    "# print out current columns with template to create a dictionary for columns rename \n",
    "for col in raw_df.columns:\n",
    "    print(f'\"{col}\" : \"\",')"
   ]
  },
  {
   "cell_type": "code",
   "execution_count": null,
   "metadata": {},
   "outputs": [],
   "source": [
    "# define what will be renamed\n",
    "cols = {\n",
    "\"imdb_title_id\" : \"id\",\n",
    "\"production_company\" : \"prod_co\",\n",
    "\"avg_vote\" : \"user_rating\",\n",
    "\"votes\" : \"vote_num\",\n",
    "\"metascore\" : \"web_rating\",\n",
    "    }\n",
    "\n",
    "# process new col names\n",
    "raw_df.rename(columns=cols, inplace=True)\n",
    "raw_df"
   ]
  },
  {
   "cell_type": "code",
   "execution_count": null,
   "metadata": {},
   "outputs": [],
   "source": [
    "# convert to numbers\n",
    "raw_df['reviews_from_users'] = pd.to_numeric(raw_df[\"reviews_from_users\"], downcast=\"integer\")\n",
    "raw_df['reviews_from_critics'] = pd.to_numeric(raw_df[\"reviews_from_critics\"],  downcast=\"integer\")\n",
    "raw_df['web_rating'] = pd.to_numeric(raw_df[\"web_rating\"],  downcast=\"integer\")"
   ]
  },
  {
   "cell_type": "code",
   "execution_count": null,
   "metadata": {},
   "outputs": [],
   "source": [
    "# create a new col combining reviews from users and critics\n",
    "raw_df['total_reviews'] = raw_df['reviews_from_users'] + raw_df['reviews_from_critics']"
   ]
  },
  {
   "cell_type": "code",
   "execution_count": null,
   "metadata": {},
   "outputs": [],
   "source": [
    "# # replace all NaN with empty\n",
    "raw_df.fillna('', inplace=True)\n",
    "raw_df"
   ]
  },
  {
   "cell_type": "code",
   "execution_count": null,
   "metadata": {},
   "outputs": [],
   "source": []
  },
  {
   "cell_type": "code",
   "execution_count": null,
   "metadata": {},
   "outputs": [],
   "source": []
  },
  {
   "cell_type": "code",
   "execution_count": null,
   "metadata": {},
   "outputs": [],
   "source": [
    "# print out all current column names\n",
    "for col in raw_df.columns:\n",
    "    print(f'\"{col}\",')"
   ]
  },
  {
   "cell_type": "markdown",
   "metadata": {},
   "source": [
    "1. choose all cols to keep (netflix id, imdb id, title, ddmmyy, dd, mo,yr,duration, avg_vote, votes, reviews_from_users\treviews_from_critics, budget,usa_gross_icome, ww income, coutry, type, genre, actor, description)\n",
    "[[\"\"]]\n",
    "2. break the date published col into ye, mo, dd\n",
    "3. combine reviews\n",
    "4. rename columns\n",
    "5. load into SQL-pgadmin4\n",
    "6. report\n",
    "       a. where data found, how\n",
    "       b. transforming process\n",
    "       c. load SQL, pic of SQL"
   ]
  },
  {
   "cell_type": "markdown",
   "metadata": {},
   "source": [
    "### DATABASE PROCESSED_DF"
   ]
  },
  {
   "cell_type": "code",
   "execution_count": null,
   "metadata": {},
   "outputs": [],
   "source": [
    " del processed_df"
   ]
  },
  {
   "cell_type": "code",
   "execution_count": null,
   "metadata": {
    "scrolled": false
   },
   "outputs": [],
   "source": [
    "# # filter out un-needed columns and re-arrange columns\n",
    "try:\n",
    "    del processed_df\n",
    "\n",
    "except Exception:\n",
    "    pass\n",
    "\n",
    "processed_df = raw_df #[[\n",
    "# \"id\",\n",
    "# \"title\",\n",
    "# \"day\",\n",
    "# \"month\",\n",
    "# \"year\",\n",
    "# \"date_published\",\n",
    "# \"user_rating\",\n",
    "# \"web_rating\",\n",
    "# \"vote_num\",\n",
    "# \"reviews_from_users\",\n",
    "# \"reviews_from_critics\",\n",
    "# \"total_reviews\",\n",
    "# \"budget\",\n",
    "# \"usa_gross_income\",\n",
    "# \"worlwide_gross_income\",\n",
    "# \"duration\",\n",
    "# \"country\",\n",
    "# \"language\",\n",
    "# \"genre\",\n",
    "# \"director\",\n",
    "# \"writer\",\n",
    "# \"prod_co\",\n",
    "# \"actors\",\n",
    "# \"description\"\n",
    "# ]]"
   ]
  },
  {
   "cell_type": "code",
   "execution_count": null,
   "metadata": {},
   "outputs": [],
   "source": [
    "processed_df"
   ]
  },
  {
   "cell_type": "code",
   "execution_count": null,
   "metadata": {},
   "outputs": [],
   "source": [
    "# processed_df.loc[:,'worlwide_gross_income'] = processed_df.loc[:, 'worlwide_gross_income'].str.replace(\"$\", \"USD \")\n",
    "# processed_df.loc[:,'worlwide_gross_income'] = processed_df.loc[:, 'worlwide_gross_income'].str.replace(\",\", \"\")\n",
    "# processed_df"
   ]
  },
  {
   "cell_type": "code",
   "execution_count": null,
   "metadata": {},
   "outputs": [],
   "source": [
    "# SPLIT COLUMNS\n",
    "# processed_df['wgi_currency'], processed_df['worlwide_gross_income'] = processed_df['worlwide_gross_income'].str.split(' ', 1).str\n"
   ]
  },
  {
   "cell_type": "code",
   "execution_count": null,
   "metadata": {},
   "outputs": [],
   "source": [
    "# processed_df.loc[:,'worlwide_gross_income'] = processed_df.loc[:, 'worlwide_gross_income'].str.replace(\"$\", \"USD \")\n",
    "# processed_df.loc[:,'worlwide_gross_income'] = processed_df.loc[:, 'worlwide_gross_income'].str.replace(\",\", \"\")"
   ]
  },
  {
   "cell_type": "code",
   "execution_count": null,
   "metadata": {},
   "outputs": [],
   "source": [
    "# def convt_currency (df_name, col_name):\n",
    "    \n",
    "#     print (f\">> Processing Column: '{col_name}'>>\\n{50*('-')}\")\n",
    "    \n",
    "#     # replace $ for USD and remove all \"blanks\"\n",
    "#     df_name.loc[:,col_name] = df_name.loc[:, col_name].str.replace(\"$\", \"USD \")\n",
    "#     df_name.loc[:,col_name] = df_name.loc[:, col_name].str.replace(\",\", \"\")\n",
    "\n",
    "#     # split currency and value into two cols\n",
    "#     for row in df_name[col_name]:\n",
    "#         try:\n",
    "#             new_col = f'{col_name}_currency'\n",
    "# #             print(new_col)\n",
    "#             df_name[new_col], df_name[col_name] = df_name[col_name].str.split(' ', 1)\n",
    "\n",
    "#         except ValueError:\n",
    "#             pass\n",
    "    \n",
    "#     df_name.fillna('', inplace=True)\n",
    "        \n",
    "#     return print(\">> DONE!\")"
   ]
  },
  {
   "cell_type": "code",
   "execution_count": null,
   "metadata": {},
   "outputs": [],
   "source": [
    "processed_df[['worlwide_gross_income', 'usa_gross_income', 'budget']]"
   ]
  },
  {
   "cell_type": "code",
   "execution_count": null,
   "metadata": {},
   "outputs": [],
   "source": [
    "def conv_currency (df_name, col_name):\n",
    "    \n",
    "    print (f\"{50*('-')}\\n >> Processing Column: '{col_name}'\")\n",
    "    \n",
    "    # replace $ for USD and remove all \"blanks\"\n",
    "    df_name.loc[:,col_name] = df_name.loc[:, col_name].str.replace(\"$\", \"USD \")\n",
    "    df_name.loc[:,col_name] = df_name.loc[:, col_name].str.replace(\",\", \"\")\n",
    "\n",
    "    # split currency and value into two cols\n",
    "    \n",
    "    try:\n",
    "        new_col = f'{col_name}_currency'\n",
    "        print(f'\\t>>> Creating new column named: \"{new_col}\"')\n",
    "        df_name[new_col], df_name[col_name] = df_name[col_name].str.split(' ', 1).str\n",
    "\n",
    "    except ValueError:\n",
    "        pass\n",
    "    \n",
    "    df_name.fillna('', inplace=True)\n",
    "    \n",
    "    return print(\" >> DONE!\")"
   ]
  },
  {
   "cell_type": "code",
   "execution_count": null,
   "metadata": {},
   "outputs": [],
   "source": [
    "col_to_covert = ['worlwide_gross_income', 'usa_gross_income', 'budget']"
   ]
  },
  {
   "cell_type": "code",
   "execution_count": null,
   "metadata": {},
   "outputs": [],
   "source": [
    "for ea_col in col_to_covert:\n",
    "    conv_currency(processed_df, ea_col)\n",
    "processed_df[['worlwide_gross_income', 'usa_gross_income', 'budget']]\n"
   ]
  },
  {
   "cell_type": "code",
   "execution_count": null,
   "metadata": {},
   "outputs": [],
   "source": [
    "processed_df[['worlwide_gross_income', 'usa_gross_income', 'budget']].to_csv(\"exported_draft.csv\")"
   ]
  },
  {
   "cell_type": "code",
   "execution_count": null,
   "metadata": {},
   "outputs": [],
   "source": [
    "# conv_currency(processed_df, 'worlwide_gross_income')\n",
    "# processed_df"
   ]
  },
  {
   "cell_type": "code",
   "execution_count": null,
   "metadata": {},
   "outputs": [],
   "source": [
    "# processed_df[[\"worlwide_gross_income\", 'currency']].iloc[156]"
   ]
  },
  {
   "cell_type": "code",
   "execution_count": null,
   "metadata": {},
   "outputs": [],
   "source": [
    "# processed_df['worlwide_gross_income'].dtypes"
   ]
  },
  {
   "cell_type": "code",
   "execution_count": null,
   "metadata": {},
   "outputs": [],
   "source": [
    "# for index, row in processed_df.iterrows():\n",
    "#     row['id'] = row['id'].replace(\"tt\", \"\") \n",
    "#     row['worlwide_gross_income'] =  row['worlwide_gross_income'].replace(\"$\", \"\")\n",
    "#     row['worlwide_gross_income'] =  row['worlwide_gross_income'].replace(\" \", \"\")\n",
    "# processed_df"
   ]
  },
  {
   "cell_type": "code",
   "execution_count": null,
   "metadata": {},
   "outputs": [],
   "source": []
  },
  {
   "cell_type": "markdown",
   "metadata": {},
   "source": [
    "### SQL-Alchemy to load clean data from pandas DataFrame to SQL Lite DataBase"
   ]
  },
  {
   "cell_type": "code",
   "execution_count": null,
   "metadata": {},
   "outputs": [],
   "source": [
    "# create declarative base\n",
    "Base = declarative_base()\n",
    "\n",
    "# check current table available in the Base - should be nothing at this point\n",
    "Base.metadata.tables\n"
   ]
  },
  {
   "cell_type": "code",
   "execution_count": null,
   "metadata": {},
   "outputs": [],
   "source": [
    "# folder name that will store the sql-lite database\n",
    "fol_name = \"Exp_SqlLiteDb\"\n",
    "if pathlib.Path(fol_name).exists():\n",
    "    print(f' >> Folder \"{fol_name}\" already exists!\\n >> No new folder was created ...')\n",
    "    pass\n",
    "else:\n",
    "    ! mkdir Exp_SqlLiteDb\n",
    "    print(f'Successfully created folder \"{fol_name}\"')"
   ]
  },
  {
   "cell_type": "code",
   "execution_count": null,
   "metadata": {},
   "outputs": [],
   "source": [
    "# # folder name that will store the sql-lite database\n",
    "# database_name = \"Exp_SqlLiteDb\"\n",
    "# if pathlib.Path(fol_name).exists():\n",
    "#     print(f' >> Folder \"{fol_name}\" already exists!\\n >> No new folder was created ...')\n",
    "#     pass\n",
    "# else:\n",
    "#     ! mkdir Exp_SqlLiteDb\n",
    "#     print(f'Successfully created folder \"{fol_name}\"')"
   ]
  },
  {
   "cell_type": "code",
   "execution_count": null,
   "metadata": {},
   "outputs": [],
   "source": [
    "sqlLite_db_path = \"Exp_SqlLiteDb\\movie.db\"\n",
    "engine = create_engine(f\"sqlite:///{sqlLite_db_path}\")\n",
    "conn = engine.connect()"
   ]
  },
  {
   "cell_type": "code",
   "execution_count": null,
   "metadata": {
    "scrolled": true
   },
   "outputs": [],
   "source": [
    "# print out list of cols for class creation\n",
    "i=0\n",
    "for col in processed_df.columns:\n",
    "    print(f'{col} = Column()')\n",
    "    i+=1\n",
    "print(f'\\n{(\"-\")*50}\\n>> There are total {i} columns in the current data frame.')"
   ]
  },
  {
   "cell_type": "code",
   "execution_count": null,
   "metadata": {},
   "outputs": [],
   "source": [
    "# column types in pd_df\n",
    "processed_df.dtypes"
   ]
  },
  {
   "cell_type": "code",
   "execution_count": null,
   "metadata": {},
   "outputs": [],
   "source": [
    "id                               object\n",
    "title                            object\n",
    "day                               int64\n",
    "month                             int64\n",
    "year                              int64\n",
    "date_published           datetime64[ns]\n",
    "user_rating                     float64\n",
    "web_rating                      float64\n",
    "vote_num                          int64\n",
    "reviews_from_users              float64\n",
    "reviews_from_critics            float64\n",
    "total_reviews                   float64\n",
    "budget                           object\n",
    "usa_gross_income                 object\n",
    "worlwide_gross_income            object\n",
    "duration                          int64\n",
    "country                          object\n",
    "language                         object\n",
    "genre                            object\n",
    "director                         object\n",
    "writer                           object\n",
    "prod co                          object\n",
    "actors                           object\n",
    "description                      object"
   ]
  },
  {
   "cell_type": "code",
   "execution_count": null,
   "metadata": {},
   "outputs": [],
   "source": [
    "class Movie(Base):\n",
    "    table_name = input(\"Please name your table.\")\n",
    "    __tablename__ = table_name\n",
    "    id = Column(Integer, primary_key=True)\n",
    "    title = Column(String(255))\n",
    "    day = Column(Integer)\n",
    "    month = Column(Integer)\n",
    "    year = Column(Integer)\n",
    "    date_published = Column(String(15))\n",
    "    user_rating = Column(REAL)\n",
    "    web_rating = Column(REAL)\n",
    "    vote_num = Column(Integer)\n",
    "    reviews_from_users = Column(Integer)\n",
    "    reviews_from_critics = Column(Integer)\n",
    "    total_reviews = Column(Integer)\n",
    "    budget = Column(String(255))\n",
    "    usa_gross_income = Column(String(255))\n",
    "    worlwide_gross_income = Column(Interger)\n",
    "    duration = Column(Interger)\n",
    "    country = Column(String(50)\n",
    "    language = Column(String(50))\n",
    "    genre = Column(String(50))\n",
    "    director = Column(String(50))\n",
    "    writer = Column(String(50))\n",
    "    prod_co = Column(String(50))\n",
    "    actors = Column(String(50))\n",
    "    description = Column(String(500))\n"
   ]
  },
  {
   "cell_type": "code",
   "execution_count": null,
   "metadata": {},
   "outputs": [],
   "source": [
    "# Create a \"Metadata\" Layer That Abstracts our SQL Database\n",
    "# ----------------------------------\n",
    "Base.metadata.create_all(engine)"
   ]
  },
  {
   "cell_type": "code",
   "execution_count": null,
   "metadata": {},
   "outputs": [],
   "source": [
    "# current in memory tables\n",
    "Base.metadata.tables"
   ]
  },
  {
   "cell_type": "code",
   "execution_count": null,
   "metadata": {},
   "outputs": [],
   "source": [
    "# orm requires session so rollbacks can occur etc.\n",
    "session = Session(bind=engine)"
   ]
  },
  {
   "cell_type": "code",
   "execution_count": null,
   "metadata": {},
   "outputs": [],
   "source": [
    "# print out all current column names\n",
    "for col in processed_df.columns:\n",
    "    print(f'{col} = ,')"
   ]
  },
  {
   "cell_type": "code",
   "execution_count": null,
   "metadata": {},
   "outputs": [],
   "source": [
    "test = Movie(\n",
    "id = 34364256,\n",
    "title = \"testing while running\",\n",
    "day = 25,\n",
    "month = 4,\n",
    "year = 2020,\n",
    "date_published = 9-5-2001 ,\n",
    "user_rating = 5.7 ,\n",
    "web_rating = 7.6,\n",
    "vote_num = 345,\n",
    "reviews_from_users = 456,\n",
    "reviews_from_critics = 234,\n",
    "total_reviews = 836,\n",
    "budget = 987654321,\n",
    "usa_gross_income = 123456789,\n",
    "worlwide_gross_income = 1234567891011,\n",
    "duration = 70,\n",
    "country = 'USA',\n",
    "language = \"American\",\n",
    "genre = \"thriller\",\n",
    "director = \" Mr. Jon Dhoe\",\n",
    "writer = \"warming\",\n",
    "prod_co = \"Universal\",\n",
    "actors = \"Brad Pitt, Olando Bloom\",\n",
    "description = \"This is a test movie just to make sure all is running well\")"
   ]
  },
  {
   "cell_type": "code",
   "execution_count": null,
   "metadata": {},
   "outputs": [],
   "source": []
  },
  {
   "cell_type": "code",
   "execution_count": null,
   "metadata": {},
   "outputs": [],
   "source": [
    "# for index, row in processed_df.iterrows():\n",
    "#     row['id'] = row['id'].replace(\"tt\", \"\") \n",
    "#     row['worlwide_gross_income'] =  row['worlwide_gross_income'].replace(\"$\", \"\")\n",
    "#     row['worlwide_gross_income'] =  row['worlwide_gross_income'].replace(\" \", \"\")\n",
    "# processed_df"
   ]
  },
  {
   "cell_type": "code",
   "execution_count": null,
   "metadata": {},
   "outputs": [],
   "source": [
    "# add one item\n",
    "session.add(patterson)"
   ]
  },
  {
   "cell_type": "code",
   "execution_count": null,
   "metadata": {},
   "outputs": [],
   "source": [
    "session.commit()"
   ]
  },
  {
   "cell_type": "code",
   "execution_count": null,
   "metadata": {},
   "outputs": [],
   "source": [
    "session.commit()\n",
    "engine.execute(\"select * from cat\").fetchall()"
   ]
  },
  {
   "cell_type": "code",
   "execution_count": null,
   "metadata": {},
   "outputs": [],
   "source": [
    "session.close()"
   ]
  }
 ],
 "metadata": {
  "kernelspec": {
   "display_name": "Python 3.7.6 64-bit ('PythonData': conda)",
   "language": "python",
   "name": "python37664bitpythondataconda7a66ec31ac78449888e028f7d32996f5"
  },
  "language_info": {
   "codemirror_mode": {
    "name": "ipython",
    "version": 3
   },
   "file_extension": ".py",
   "mimetype": "text/x-python",
   "name": "python",
   "nbconvert_exporter": "python",
   "pygments_lexer": "ipython3",
   "version": "3.7.6"
  }
 },
 "nbformat": 4,
 "nbformat_minor": 4
}
